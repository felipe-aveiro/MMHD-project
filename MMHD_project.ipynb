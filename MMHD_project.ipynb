{
  "nbformat": 4,
  "nbformat_minor": 0,
  "metadata": {
    "colab": {
      "private_outputs": true,
      "provenance": [],
      "gpuType": "T4",
      "include_colab_link": true
    },
    "kernelspec": {
      "name": "python3",
      "display_name": "Python 3"
    },
    "language_info": {
      "name": "python"
    },
    "accelerator": "GPU"
  },
  "cells": [
    {
      "cell_type": "markdown",
      "metadata": {
        "id": "view-in-github",
        "colab_type": "text"
      },
      "source": [
        "<a href=\"https://colab.research.google.com/github/felipe-aveiro/MMHD-project/blob/main/MMHD_project.ipynb\" target=\"_parent\"><img src=\"https://colab.research.google.com/assets/colab-badge.svg\" alt=\"Open In Colab\"/></a>"
      ]
    },
    {
      "cell_type": "markdown",
      "source": [
        "# 🛠️🗃️ **Install dependencies, import libraries, and remove \"sample_data\" folder**"
      ],
      "metadata": {
        "id": "0yQoSVAdLJdk"
      }
    },
    {
      "cell_type": "code",
      "execution_count": null,
      "metadata": {
        "id": "tm0Ybs5aLCj1",
        "collapsed": true
      },
      "outputs": [],
      "source": [
        "print(\"START!\\n\")\n",
        "# Silently install and remove files\n",
        "!pip install ultralytics > /dev/null 2>&1\n",
        "!rm -r sample_data > /dev/null 2>&1\n",
        "\n",
        "# Silently import everything\n",
        "import contextlib\n",
        "with contextlib.redirect_stdout(None), contextlib.redirect_stderr(None):\n",
        "    import ultralytics\n",
        "    from ultralytics import YOLO\n",
        "    from google.colab import files\n",
        "    import matplotlib.pyplot as plt\n",
        "    from PIL import Image\n",
        "    import os\n",
        "    import random\n",
        "    import shutil\n",
        "    import time\n",
        "    from tqdm import tqdm\n",
        "    import torch\n",
        "\n",
        "print(\"📢 CUDA available:\", torch.cuda.is_available())\n",
        "print(\"🔍 Device:\", torch.cuda.get_device_name(0) if torch.cuda.is_available() else \"CPU\")\n",
        "\n",
        "\n",
        "print(\"\\n✅ Installations and imports done!\")"
      ]
    },
    {
      "cell_type": "markdown",
      "source": [
        "# 💾📥 **Download MID-3K dataset**"
      ],
      "metadata": {
        "id": "RGemEmF0L1YW"
      }
    },
    {
      "cell_type": "code",
      "source": [
        "!git clone https://github.com/felipe-aveiro/MMHD-project.git\n",
        "\n",
        "print(\"\\n✅ Repository was successfully cloned!\")"
      ],
      "metadata": {
        "id": "iRy3qqS7L63j"
      },
      "execution_count": null,
      "outputs": []
    },
    {
      "cell_type": "markdown",
      "source": [
        "# ⚙️🛠️ **Split dataset into train (65%), validation (15%), and test (20%)**"
      ],
      "metadata": {
        "id": "ya8cEoex64q9"
      }
    },
    {
      "cell_type": "code",
      "source": [
        "# Base directory\n",
        "BASE_DIR = \"/content/MMHD-project/MID-3K\"\n",
        "\n",
        "def process_dataset(BASE_DIR, modality):\n",
        "    print(f\"\\n🚀 Processing modality: {modality.upper()}\")\n",
        "\n",
        "    # Paths to the images and labels of the selected modality\n",
        "    images_dir = os.path.join(BASE_DIR, \"dataset\", modality, \"whole-dataset\", modality, \"images\")\n",
        "    labels_dir = os.path.join(BASE_DIR, \"dataset\", modality, \"whole-dataset\", modality, \"labels\")\n",
        "\n",
        "    # Build output directories for a given split (train, val, test)\n",
        "    def build_output_path(split):\n",
        "        return {\n",
        "            \"images\": os.path.join(BASE_DIR, \"dataset\", modality, split, modality, \"images\"),\n",
        "            \"labels\": os.path.join(BASE_DIR, \"dataset\", modality, split, modality, \"labels\"),\n",
        "        }\n",
        "\n",
        "    # Collect and shuffle all image files\n",
        "    image_files = [f for f in os.listdir(images_dir) if f.endswith('.png')]\n",
        "    random.shuffle(image_files)\n",
        "\n",
        "    # Split ratios\n",
        "    train_percentage = 0.65\n",
        "    val_percentage = 0.15\n",
        "    test_percentage = 0.20\n",
        "\n",
        "    # Calculate the split sizes\n",
        "    total = len(image_files)\n",
        "    train_split = int(total * train_percentage)\n",
        "    val_split = int(total * val_percentage)\n",
        "    test_split = total - train_split - val_split # ensure total coverage\n",
        "\n",
        "    # Lists for each split\n",
        "    train_files = image_files[:train_split]\n",
        "    val_files = image_files[train_split:train_split + val_split]\n",
        "    test_files = image_files[train_split + val_split:]\n",
        "\n",
        "    print(f\"📊 Total {modality} images: {total}\\n\")\n",
        "\n",
        "    print(f\"🟢 Train: {len(train_files)}\")\n",
        "    print(f\"🔵 Validation: {len(val_files)}\")\n",
        "    print(f\"🟣 Test: {len(test_files)}\")\n",
        "\n",
        " # Delete and recreate output folders\n",
        "    def prepare_output_folders(splits=[\"train\", \"val\", \"test\"]):\n",
        "        for split in splits:\n",
        "            paths = build_output_path(split)\n",
        "            for subpath in paths.values():\n",
        "                if os.path.exists(subpath):\n",
        "                    shutil.rmtree(subpath)\n",
        "                os.makedirs(subpath, exist_ok=True)\n",
        "\n",
        "    prepare_output_folders()\n",
        "\n",
        "    # Copy images and corresponding labels to each split folder\n",
        "    def copy_files(file_list, split):\n",
        "        paths = build_output_path(split)\n",
        "        print(f\"\\n📦 Copying {split} set ({len(file_list)} files):\")\n",
        "        for img_file in tqdm(file_list, desc=f\"→ {split.capitalize()} progress\", unit=\" images\"):\n",
        "            label_file = os.path.splitext(img_file)[0] + \".txt\"\n",
        "            src_img = os.path.join(images_dir, img_file)\n",
        "            src_lbl = os.path.join(labels_dir, label_file)\n",
        "            dst_img = os.path.join(paths[\"images\"], img_file)\n",
        "            dst_lbl = os.path.join(paths[\"labels\"], label_file)\n",
        "\n",
        "            if os.path.exists(src_img) and os.path.exists(src_lbl):\n",
        "                shutil.copy2(src_img, dst_img)\n",
        "                shutil.copy2(src_lbl, dst_lbl)\n",
        "            else:\n",
        "                print(f\"⚠️ Skipped (missing image or label): {img_file}\")\n",
        "\n",
        "    # Run the file copying process and measure time\n",
        "    start_time = time.perf_counter()\n",
        "    copy_files(train_files, \"train\")\n",
        "    copy_files(val_files, \"val\")\n",
        "    copy_files(test_files, \"test\")\n",
        "    elapsed = time.perf_counter() - start_time\n",
        "    print(f\"\\n\\n🔔 {modality.upper()} dataset split completed in {elapsed:.2f} seconds!\")\n",
        "\n",
        "# Process RGB and Thermal datasets\n",
        "process_dataset(BASE_DIR, \"rgb\")\n",
        "process_dataset(BASE_DIR, \"thermal\")"
      ],
      "metadata": {
        "id": "2a6FuVhG7GLy"
      },
      "execution_count": null,
      "outputs": []
    },
    {
      "cell_type": "markdown",
      "source": [
        "# ⚙️🧰 **Generate dataset configuration files (rgb.yaml & thermal.yaml)**"
      ],
      "metadata": {
        "id": "1ZEEwaBwLp8S"
      }
    },
    {
      "cell_type": "code",
      "source": [
        "# RGB YAML\n",
        "rgb_yaml_path = os.path.join(BASE_DIR, \"dataset\", \"rgb.yaml\")\n",
        "rgb_yaml_content = f\"\"\"\n",
        "path: {BASE_DIR}/dataset/rgb\n",
        "train: train/rgb\n",
        "val: val/rgb\n",
        "test: test/rgb\n",
        "names:\n",
        "  0: human\n",
        "\"\"\"\n",
        "\n",
        "# THERMAL YAML\n",
        "thermal_yaml_path = os.path.join(BASE_DIR, \"dataset\", \"thermal.yaml\")\n",
        "thermal_yaml_content = f\"\"\"\n",
        "path: {BASE_DIR}/dataset/thermal\n",
        "train: train/thermal\n",
        "val: val/thermal\n",
        "test: test/thermal\n",
        "names:\n",
        "  0: human\n",
        "\"\"\"\n",
        "\n",
        "# Save\n",
        "with open(rgb_yaml_path, \"w\") as f:\n",
        "    f.write(rgb_yaml_content.strip())\n",
        "\n",
        "with open(thermal_yaml_path, \"w\") as f:\n",
        "    f.write(thermal_yaml_content.strip())\n",
        "\n",
        "print(\"✅ Checkpoint:\\n\")\n",
        "print(\"\\t📄 \", rgb_yaml_path)\n",
        "print(\"\\t📄 \", thermal_yaml_path)"
      ],
      "metadata": {
        "id": "62FW668XLIzE"
      },
      "execution_count": null,
      "outputs": []
    },
    {
      "cell_type": "markdown",
      "source": [
        "# 🚀🧠🌈🖼️ **Create YOLO RGB model, train and download**"
      ],
      "metadata": {
        "id": "rUyD1rYxbLHC"
      }
    },
    {
      "cell_type": "code",
      "source": [
        "#REMOVE OTHERS RGB FOLDERS\n",
        "if os.path.exists(\"RML-project-MMHD/rgb\"):\n",
        "    shutil.rmtree(\"RML-project-MMHD/rgb\")\n",
        "\n",
        "# Training parameters\n",
        "# NUMBER OF EPOCHS TO TRAIN\n",
        "num_epochs_rgb = 50\n",
        "\n",
        "# LOAD YOLOv8 SMALL MODEL FOR RGB MODALITY (nano, small, medium...)\n",
        "model_rgb = YOLO('yolov8s.pt') # LOAD YOLO MODEL FOR TRAINNING Ex.: yolov8n.pt, yolov8s.pt, yolov8m.pt ...\n",
        "\n",
        "rgb_yaml_path = os.path.join(BASE_DIR, \"dataset\", \"rgb.yaml\")\n",
        "\n",
        "# Start training\n",
        "#https://docs.ultralytics.com/usage/cfg/#train-settings\n",
        "model_rgb.train(\n",
        "    pretrained = False, # DEFINE IF USE PRETRAINED WEIGHTS\n",
        "    data = rgb_yaml_path, # DATASET CONFIG FILE\n",
        "    epochs = num_epochs_rgb, #NUMBER OF EPOCHS\n",
        "    device = 0, # USE GPU\n",
        "    patience = num_epochs_rgb, # SET patience = num_epochs_rgb TO DISABLE EARLY STOP\n",
        "    imgsz = 640, # TO REZISE IMAGES, DEFAULT 640\n",
        "    save = True, # TO SAVE CHECKPOINTS AND FINAL MODEL WEIGHTS\n",
        "    project='RML-project-MMHD', #NAME OF PROJECT\n",
        "    name = 'rgb', # SUB-NAME OF PROJECT or MODALITY\n",
        "    plots = True # TO SHOW PLOTS OF TRAINING AND VALIDATION METRICS\n",
        ")"
      ],
      "metadata": {
        "id": "3zodoOFobVYN"
      },
      "execution_count": null,
      "outputs": []
    },
    {
      "cell_type": "markdown",
      "source": [
        "# 🚀🧠🔥🌡️ **Create YOLO thermal model, train and download**"
      ],
      "metadata": {
        "id": "0TuxsTH3eENX"
      }
    },
    {
      "cell_type": "code",
      "source": [
        "#REMOVE OTHERS THERMAL FOLDERS\n",
        "if os.path.exists(\"RML-project-MMHD/thermal\"):\n",
        "    shutil.rmtree(\"RML-project-MMHD/thermal\")\n",
        "\n",
        "# Training parameters\n",
        "# NUMBER OF EPOCHS TO TRAIN\n",
        "num_epochs_thermal = 50\n",
        "\n",
        "# LOAD YOLOv8 SMALL MODEL FOR THERMAL MODALITY (nano, small, medium...)\n",
        "model_thermal = YOLO('yolov8s.pt') # LOAD YOLO MODEL FOR TRAINNING Ex.: yolov8n.pt, yolov8s.pt, yolov8m.pt ...\n",
        "\n",
        "thermal_yaml_path = os.path.join(BASE_DIR, \"dataset\", \"thermal.yaml\")\n",
        "\n",
        "# Start training\n",
        "#https://docs.ultralytics.com/usage/cfg/#train-settings\n",
        "model_thermal.train(\n",
        "    pretrained = False, # DEFINE IF USE PRETRAINED WEIGHTS\n",
        "    data = thermal_yaml_path, # DATASET CONFIG FILE\n",
        "    epochs = num_epochs_thermal, #NUMBER OF EPOCHS\n",
        "    device = 0, # USE GPU\n",
        "    patience = num_epochs_thermal, # SET patience = num_epochs_thermal TO DISABLE EARLY STOP\n",
        "    imgsz = 640, # TO REZISE IMAGES, DEFAULT 640\n",
        "    save = True, # TO SAVE CHECKPOINTS AND FINAL MODEL WEIGHTS\n",
        "    project='RML-project-MMHD', #NAME OF PROJECT\n",
        "    name = 'thermal', # SUB-NAME OF PROJECT or MODALITY\n",
        "    plots = True # TO SHOW PLOTS OF TRAINING AND VALIDATION METRICS\n",
        ")"
      ],
      "metadata": {
        "id": "ZlgeUKdUdQcV"
      },
      "execution_count": null,
      "outputs": []
    },
    {
      "cell_type": "markdown",
      "source": [
        "# 🧪🎯🌈🖼️ **RGB model validation with test set**"
      ],
      "metadata": {
        "id": "EVV7FslrhUJO"
      }
    },
    {
      "cell_type": "code",
      "source": [
        "# https://docs.ultralytics.com/modes/val/#arguments-for-yolo-model-validation\n",
        "# Evaluate on the test set\n",
        "results_test_rgb = model_rgb.val(\n",
        "    data='rgb.yaml',\n",
        "    split='test',\n",
        "    project='RML-project-MMHD',\n",
        "    name='test_eval_rgb',\n",
        "    plots=True\n",
        ")"
      ],
      "metadata": {
        "id": "yJoFJZ-3hOe-"
      },
      "execution_count": null,
      "outputs": []
    },
    {
      "cell_type": "markdown",
      "source": [
        "# 🧪🎯🔥🌡️ **Thermal model validation with test set**"
      ],
      "metadata": {
        "id": "hIKJYq7Ghfp7"
      }
    },
    {
      "cell_type": "code",
      "source": [
        "# https://docs.ultralytics.com/modes/val/#arguments-for-yolo-model-validation\n",
        "# Evaluate on the test set\n",
        "results_test_thermal = model_thermal.val(\n",
        "    data='thermal.yaml',\n",
        "    split='test',\n",
        "    project='RML-project-MMHD',\n",
        "    name='test_eval_thermal',\n",
        "    plots=True\n",
        ")"
      ],
      "metadata": {
        "id": "gLp4xBolhlUL"
      },
      "execution_count": null,
      "outputs": []
    },
    {
      "cell_type": "markdown",
      "source": [
        "# 🔁🤖 **Alternatively, load previous models**"
      ],
      "metadata": {
        "id": "abVzApk72ZQD"
      }
    },
    {
      "cell_type": "code",
      "source": [
        "# ⚙️ OPTIONAL: Load pretrained models from Google Drive if session was restarted\n",
        "from google.colab import drive\n",
        "drive.mount('/content/drive')\n",
        "\n",
        "# Paths for saved best weights\n",
        "drive_rgb_weights = \"/content/drive/MyDrive/RML-project-MMHD/rgb/weights/best.pt\"\n",
        "drive_thermal_weights = \"/content/drive/MyDrive/RML-project-MMHD/thermal/weights/best.pt\"\n",
        "\n",
        "# Check if files exist and load them\n",
        "from ultralytics import YOLO\n",
        "\n",
        "if os.path.exists(drive_rgb_weights):\n",
        "    model_rgb = YOLO(drive_rgb_weights)\n",
        "    print(\"✅ RGB model loaded from Drive!\")\n",
        "\n",
        "if os.path.exists(drive_thermal_weights):\n",
        "    model_thermal = YOLO(drive_thermal_weights)\n",
        "    print(\"✅ Thermal model loaded from Drive!\")"
      ],
      "metadata": {
        "id": "5wZ2IB4e2cf_"
      },
      "execution_count": null,
      "outputs": []
    },
    {
      "cell_type": "markdown",
      "source": [
        "# 👁️‍🗨️🕵️‍♂️ **Predict image (local files or URL image)**"
      ],
      "metadata": {
        "id": "okZopADPjpOK"
      }
    },
    {
      "cell_type": "code",
      "source": [
        "# Base image folder paths\n",
        "image_folder_rgb = \"/content/MMHD-project/MID-3K/dataset/rgb/whole-dataset/rgb/images\"\n",
        "image_folder_thermal = \"/content/MMHD-project/MID-3K/dataset/thermal/whole-dataset/thermal/images\"\n",
        "\n",
        "def get_random_image(image_folder):\n",
        "  # Get a random image filename\n",
        "  image_files = [f for f in os.listdir(image_folder) if f.lower().endswith(('.png'))]\n",
        "  if not image_files:\n",
        "    raise RuntimeError(f\"No PNG images found in {image_folder}\")\n",
        "\n",
        "  random_image_name = random.choice(image_files)\n",
        "  random_image_path = os.path.join(image_folder, random_image_name)\n",
        "  return random_image_path, random_image_name\n",
        "\n",
        "\n",
        "random_image_path_rgb, random_image_name_rgb = get_random_image(image_folder_rgb)\n",
        "random_image_path_thermal, random_image_name_thermal = get_random_image(image_folder_thermal)\n",
        "\n",
        "print(f\"🔍 Selected random RGB image: {random_image_name_rgb}\")\n",
        "print(f\"🔍 Selected random thermal image: {random_image_name_thermal}\")\n",
        "print()\n",
        "\n",
        "# Run prediction\n",
        "# Tutorial: https://docs.ultralytics.com/modes/predict/\n",
        "pred_rgb = model_rgb(random_image_path_rgb)\n",
        "pred_thermal = model_thermal(random_image_path_thermal)\n",
        "\n",
        "# Create folder for saving predictions\n",
        "os.makedirs(\"predictions\", exist_ok=True)\n",
        "\n",
        "id_rgb = 0\n",
        "for i in pred_rgb:\n",
        "    cls = i.boxes.cls.tolist()\n",
        "    conf = i.boxes.conf.tolist()\n",
        "    boxes = i.boxes.xywhn.tolist()\n",
        "    file = 'predictions/rgb_result_' + str(id_rgb) + '.jpg'\n",
        "    i.save(filename=file)  # Save to disk in predictions folder\n",
        "    id_rgb += 1\n",
        "\n",
        "id_thermal = 0\n",
        "for i in pred_thermal:\n",
        "     cls = i.boxes.cls.tolist()\n",
        "     conf = i.boxes.conf.tolist()\n",
        "     boxes = i.boxes.xywhn.tolist()\n",
        "     file = 'predictions/thermal_result_' + str(id_thermal) + '.jpg'\n",
        "     i.save(filename=file)  # Save to disk in predictions folder\n",
        "     id_thermal += 1"
      ],
      "metadata": {
        "id": "eivqkfL4j0GB"
      },
      "execution_count": null,
      "outputs": []
    },
    {
      "cell_type": "markdown",
      "source": [
        "# 📁🧾 **ZIP RML-project-MMHD folder and create RML-project-MMHD.zip**"
      ],
      "metadata": {
        "id": "mQL2pvka-i3H"
      }
    },
    {
      "cell_type": "code",
      "source": [
        "folder_to_zip = '/content/RML-project-MMHD'\n",
        "\n",
        "output_filename = '/content/RML-project-MMHD.zip'\n",
        "\n",
        "shutil.make_archive(output_filename.replace('.zip', ''), 'zip', folder_to_zip)\n",
        "\n",
        "print(f'Folder {folder_to_zip} was compacted as {output_filename}')"
      ],
      "metadata": {
        "id": "kTpMDBq8-fpP"
      },
      "execution_count": null,
      "outputs": []
    },
    {
      "cell_type": "markdown",
      "source": [
        "# 💾🖨️ **Save project to Drive**"
      ],
      "metadata": {
        "id": "ORVB0FvI7dcw"
      }
    },
    {
      "cell_type": "code",
      "source": [
        "from google.colab import drive\n",
        "drive.mount('/content/drive')\n",
        "\n",
        "OUTPUT_DIR = \"/content/drive/MyDrive/RML-2025\"\n",
        "os.makedirs(OUTPUT_DIR, exist_ok=True)\n",
        "\n",
        "SOURCE_DIR = \"/content\"\n",
        "\n",
        "EXCLUDE_DIRS = ['drive', 'sample_data', 'MMHD-project']\n",
        "\n",
        "all_files_to_copy = []\n",
        "for root, dirs, files in os.walk(SOURCE_DIR):\n",
        "    if any(excluded in root for excluded in EXCLUDE_DIRS):\n",
        "        continue\n",
        "    for file in files:\n",
        "        full_path = os.path.join(root, file)\n",
        "        rel_path = os.path.relpath(full_path, SOURCE_DIR)\n",
        "        dest_path = os.path.join(OUTPUT_DIR, rel_path)\n",
        "        all_files_to_copy.append((full_path, dest_path))\n",
        "\n",
        "print(f\"📦 Copying {len(all_files_to_copy)} files to Drive...\\n\")\n",
        "for src, dst in tqdm(all_files_to_copy, desc=\"🔄 Copying\", unit=\" file\"):\n",
        "    os.makedirs(os.path.dirname(dst), exist_ok=True)\n",
        "    if os.path.exists(dst):\n",
        "        print(f\"⚠️ Overwriting: {dst}\")\n",
        "    shutil.copy2(src, dst)\n",
        "\n",
        "print(f\"\\n✅ Content in /content/ was saved in: {OUTPUT_DIR}\")"
      ],
      "metadata": {
        "id": "kD9aNgv2gPDn"
      },
      "execution_count": null,
      "outputs": []
    },
    {
      "cell_type": "markdown",
      "source": [
        "# 📌🎉✅ **ALL DONE!**"
      ],
      "metadata": {
        "id": "mlzDnXDI70Dq"
      }
    }
  ]
}